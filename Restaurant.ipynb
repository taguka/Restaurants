{
 "cells": [
  {
   "cell_type": "code",
   "execution_count": 207,
   "metadata": {
    "collapsed": true
   },
   "outputs": [],
   "source": [
    "import numpy as np\n",
    "import pandas as pd\n",
    "import lightgbm as lgb\n",
    "from sklearn.metrics import mean_squared_error\n",
    "from sklearn.model_selection import cross_val_score\n",
    "import seaborn as sns\n",
    "import re\n",
    "from sklearn.preprocessing import StandardScaler, LabelEncoder\n",
    "from sklearn.neighbors import KNeighborsRegressor\n",
    "from sklearn.ensemble import RandomForestRegressor,GradientBoostingRegressor,ExtraTreesRegressor\n",
    "import xgboost as xgb\n",
    "from sklearn.linear_model import LinearRegression\n",
    "import warnings\n",
    "warnings.filterwarnings(\"ignore\")\n",
    "import itertools\n",
    "import matplotlib.pyplot as plt\n",
    "%matplotlib inline"
   ]
  },
  {
   "cell_type": "code",
   "execution_count": 208,
   "metadata": {
    "collapsed": true
   },
   "outputs": [],
   "source": [
    "path='C:\\\\Kaggle\\\\Restaurants\\\\data\\\\'"
   ]
  },
  {
   "cell_type": "code",
   "execution_count": 209,
   "metadata": {
    "collapsed": true
   },
   "outputs": [],
   "source": [
    "test_dates = pd.DataFrame(pd.date_range('2017-04-23','2017-05-31', freq='D'))"
   ]
  },
  {
   "cell_type": "code",
   "execution_count": 210,
   "metadata": {
    "collapsed": true
   },
   "outputs": [],
   "source": [
    "sample_submission=pd.read_csv(path+'sample_submission.csv')\n",
    "lst_stores=list(sample_submission['id'].apply(lambda x:x[:-11]).unique())"
   ]
  },
  {
   "cell_type": "code",
   "execution_count": 211,
   "metadata": {
    "collapsed": true
   },
   "outputs": [],
   "source": [
    "air_visit_data=pd.read_csv(path+'air_visit_data.csv')\n",
    "air_visit_data['visit']=pd.to_datetime(air_visit_data['visit_date'])\n",
    "air_visit_data=air_visit_data[air_visit_data.air_store_id.isin(lst_stores)]\n",
    "date_info=pd.read_csv(path+'date_info.csv')\n",
    "date_info['visit']=pd.to_datetime(date_info['calendar_date'])\n",
    "date_info['day']=date_info.index+1\n",
    "date_info['week_day']=date_info['visit'].dt.dayofweek \n",
    "date_info['weekend']=date_info.apply(lambda x:1 if x['visit'].dayofweek in [5,6] else 0,axis=1)\n",
    "golden_week=list(pd.date_range('2016-04-29','2016-05-07', freq='D').union(pd.date_range('2017-04-28','2017-05-06', freq='D')))\n",
    "date_info['fl_gw']=0\n",
    "date_info.loc[date_info.visit.isin(golden_week),'fl_gw']=1\n",
    "date_info['fl_holiday1']=date_info.apply(lambda x: 1 if x['holiday_flg']==1|x['weekend']==1 else 0,axis=1)\n",
    "date_info['fl_holiday2']=date_info.apply(lambda x: 1 if x['holiday_flg']==1|x['weekend']==1|x['fl_gw']==1 else 0,axis=1)"
   ]
  },
  {
   "cell_type": "code",
   "execution_count": 212,
   "metadata": {
    "collapsed": true
   },
   "outputs": [],
   "source": [
    "air_visit_data=air_visit_data.merge(date_info,on='visit')\n",
    "air_visit_data=air_visit_data.drop(['visit_date','calendar_date','day_of_week','holiday_flg','fl_gw'],axis=1)\n",
    "air_visit_data['shift_day']=air_visit_data.sort_values('day').groupby(['air_store_id'])['day'].shift(1).fillna(air_visit_data.day)\n",
    "air_visit_data['diff']=air_visit_data['day']-air_visit_data['shift_day']\n",
    "air_visit_data['visitors']=np.log1p(air_visit_data['visitors'])\n",
    "filt=air_visit_data.loc[(air_visit_data['diff']>30),['air_store_id','visit']]\n",
    "filt.columns=['air_store_id','start_date']\n",
    "filt=filt.groupby('air_store_id')['start_date'].max().reset_index()\n",
    "air_visit_data=air_visit_data.merge(filt, on='air_store_id',how='left').fillna(pd.to_datetime('1900-01-01'))\n",
    "air_visit_data=air_visit_data[air_visit_data['visit']>=air_visit_data['start_date']]\n",
    "air_visit_data=air_visit_data.drop(['shift_day','diff','start_date'],axis=1)"
   ]
  },
  {
   "cell_type": "code",
   "execution_count": 213,
   "metadata": {},
   "outputs": [
    {
     "data": {
      "text/html": [
       "<div>\n",
       "<style>\n",
       "    .dataframe thead tr:only-child th {\n",
       "        text-align: right;\n",
       "    }\n",
       "\n",
       "    .dataframe thead th {\n",
       "        text-align: left;\n",
       "    }\n",
       "\n",
       "    .dataframe tbody tr th {\n",
       "        vertical-align: top;\n",
       "    }\n",
       "</style>\n",
       "<table border=\"1\" class=\"dataframe\">\n",
       "  <thead>\n",
       "    <tr style=\"text-align: right;\">\n",
       "      <th></th>\n",
       "      <th>air_store_id</th>\n",
       "      <th>air_genre_name</th>\n",
       "      <th>air_area_name</th>\n",
       "      <th>latitude</th>\n",
       "      <th>longitude</th>\n",
       "      <th>air_area</th>\n",
       "      <th>area</th>\n",
       "      <th>genre</th>\n",
       "    </tr>\n",
       "  </thead>\n",
       "  <tbody>\n",
       "    <tr>\n",
       "      <th>0</th>\n",
       "      <td>air_0f0cdeee6c9bf3d7</td>\n",
       "      <td>Italian/French</td>\n",
       "      <td>Hyōgo-ken Kōbe-shi Kumoidōri</td>\n",
       "      <td>34.695124</td>\n",
       "      <td>135.197852</td>\n",
       "      <td>Hyōgo-ken</td>\n",
       "      <td>2.957459</td>\n",
       "      <td>2.892934</td>\n",
       "    </tr>\n",
       "    <tr>\n",
       "      <th>1</th>\n",
       "      <td>air_7cc17a324ae5c7dc</td>\n",
       "      <td>Italian/French</td>\n",
       "      <td>Hyōgo-ken Kōbe-shi Kumoidōri</td>\n",
       "      <td>34.695124</td>\n",
       "      <td>135.197852</td>\n",
       "      <td>Hyōgo-ken</td>\n",
       "      <td>2.957459</td>\n",
       "      <td>2.892934</td>\n",
       "    </tr>\n",
       "    <tr>\n",
       "      <th>2</th>\n",
       "      <td>air_fee8dcf4d619598e</td>\n",
       "      <td>Italian/French</td>\n",
       "      <td>Hyōgo-ken Kōbe-shi Kumoidōri</td>\n",
       "      <td>34.695124</td>\n",
       "      <td>135.197852</td>\n",
       "      <td>Hyōgo-ken</td>\n",
       "      <td>2.957459</td>\n",
       "      <td>2.892934</td>\n",
       "    </tr>\n",
       "    <tr>\n",
       "      <th>3</th>\n",
       "      <td>air_a17f0778617c76e2</td>\n",
       "      <td>Italian/French</td>\n",
       "      <td>Hyōgo-ken Kōbe-shi Kumoidōri</td>\n",
       "      <td>34.695124</td>\n",
       "      <td>135.197852</td>\n",
       "      <td>Hyōgo-ken</td>\n",
       "      <td>2.957459</td>\n",
       "      <td>2.892934</td>\n",
       "    </tr>\n",
       "    <tr>\n",
       "      <th>4</th>\n",
       "      <td>air_42c9aa6d617c5057</td>\n",
       "      <td>Italian/French</td>\n",
       "      <td>Hyōgo-ken Kakogawa-shi Kakogawachō Kitazaike</td>\n",
       "      <td>34.756950</td>\n",
       "      <td>134.841177</td>\n",
       "      <td>Hyōgo-ken</td>\n",
       "      <td>2.957459</td>\n",
       "      <td>2.892934</td>\n",
       "    </tr>\n",
       "  </tbody>\n",
       "</table>\n",
       "</div>"
      ],
      "text/plain": [
       "           air_store_id  air_genre_name  \\\n",
       "0  air_0f0cdeee6c9bf3d7  Italian/French   \n",
       "1  air_7cc17a324ae5c7dc  Italian/French   \n",
       "2  air_fee8dcf4d619598e  Italian/French   \n",
       "3  air_a17f0778617c76e2  Italian/French   \n",
       "4  air_42c9aa6d617c5057  Italian/French   \n",
       "\n",
       "                                  air_area_name   latitude   longitude  \\\n",
       "0                  Hyōgo-ken Kōbe-shi Kumoidōri  34.695124  135.197852   \n",
       "1                  Hyōgo-ken Kōbe-shi Kumoidōri  34.695124  135.197852   \n",
       "2                  Hyōgo-ken Kōbe-shi Kumoidōri  34.695124  135.197852   \n",
       "3                  Hyōgo-ken Kōbe-shi Kumoidōri  34.695124  135.197852   \n",
       "4  Hyōgo-ken Kakogawa-shi Kakogawachō Kitazaike  34.756950  134.841177   \n",
       "\n",
       "    air_area      area     genre  \n",
       "0  Hyōgo-ken  2.957459  2.892934  \n",
       "1  Hyōgo-ken  2.957459  2.892934  \n",
       "2  Hyōgo-ken  2.957459  2.892934  \n",
       "3  Hyōgo-ken  2.957459  2.892934  \n",
       "4  Hyōgo-ken  2.957459  2.892934  "
      ]
     },
     "execution_count": 213,
     "metadata": {},
     "output_type": "execute_result"
    }
   ],
   "source": [
    "air_store_info=pd.read_csv(path+'air_store_info.csv')\n",
    "air_store_info['air_area']=air_store_info['air_area_name'].apply(lambda x: x.split()[0])\n",
    "air_store_info.head()\n",
    "df=pd.merge(air_visit_data, air_store_info, on='air_store_id')\n",
    "tmp=df.groupby(['air_area'])['visitors'].mean().reset_index()\n",
    "tmp.columns=list(tmp.columns[:-1])+['area']\n",
    "air_store_info=air_store_info.merge(tmp, on='air_area')\n",
    "tmp=df.groupby(['air_genre_name'])['visitors'].mean().reset_index()\n",
    "tmp.columns=list(tmp.columns[:-1])+['genre']\n",
    "air_store_info=air_store_info.merge(tmp, on='air_genre_name')\n",
    "air_store_info.head()"
   ]
  },
  {
   "cell_type": "code",
   "execution_count": 248,
   "metadata": {
    "collapsed": true
   },
   "outputs": [],
   "source": [
    "lst_short_stores=['air_b259b4e4a51a690d','air_7bc6ca04d7b0f3b8','air_fb44f566d4f64a4e','air_900d755ebd2f7bbd', \n",
    "                  'air_25c583983246b7b0','air_e42bdc3377d1eee7','air_5e939e005bd34633','air_51281cd059d7b89b', \n",
    "                  'air_a9a380530c1e121f','air_789103bf53b8096b','air_1509881b22965b34','air_a17f0778617c76e2',\n",
    "                  'air_1c0b150f9e696a5f','air_cf5ab75a0afb8af9','air_8e492076a1179383','air_8e8f42f047537154',\n",
    "                  'air_bb4ff06cd661ee9b','air_8110d68cc869b85e','air_9c6787aa03a45586']"
   ]
  },
  {
   "cell_type": "code",
   "execution_count": 215,
   "metadata": {
    "collapsed": true
   },
   "outputs": [],
   "source": [
    "class LinearReg():\n",
    "    def fit(self, X):\n",
    "        codes = X.air_store_id.unique()\n",
    "        days = np.arange(7)\n",
    "        self.d = {}\n",
    "        index2 = [X.week_day == i for i in range(7)]\n",
    "        for code in codes:\n",
    "            self.d[code] = {}\n",
    "            index1 = X.air_store_id == code\n",
    "            for day in days:\n",
    "                index = index1 & index2[day]\n",
    "                self.d[code][day] = LinearRegression()\n",
    "                x = X[index]\n",
    "                try:\n",
    "                    self.d[code][day].fit(x.day.values.reshape(len(x), 1), x.visitors)\n",
    "                except:\n",
    "                    pass\n",
    "    def predict(self, X):\n",
    "        prediction = []\n",
    "        for day, code, weekday in X[['day', 'air_store_id', 'week_day']].values:\n",
    "            try:\n",
    "                prediction.append(self.d[code][weekday].predict(day)[0])\n",
    "            except:\n",
    "                prediction.append(-999)\n",
    "        return prediction\n",
    "    \n",
    "class LinearReg2():\n",
    "    def fit(self, X):\n",
    "        codes = X.air_store_id.unique()\n",
    "        days = [True, False]\n",
    "        self.d = {}\n",
    "        index2 = [X.weekend == i for i in days]\n",
    "        for code in codes:\n",
    "            self.d[code] = {}\n",
    "            index1 = X.air_store_id == code\n",
    "            for day in days:\n",
    "                index = index1 & index2[day]\n",
    "                self.d[code][day] = LinearRegression()\n",
    "                x = X[index]\n",
    "                self.d[code][day].fit(x.day.values.reshape(len(x), 1), x.visitors)\n",
    "    def predict(self, X):\n",
    "        prediction = []\n",
    "        for day, code, weekday in X[['day', 'air_store_id', 'weekend']].values:\n",
    "            prediction.append(self.d[code][weekday].predict(day)[0])\n",
    "        return prediction\n",
    "    \n",
    "a = [0.93]**np.arange(50, 0, -1)\n",
    "a = a / a.sum()\n",
    "\n",
    "a2 = [0.7]**np.arange(15, 0, -1)\n",
    "a2 = a2 / a2.sum()\n",
    "\n",
    "def create_weighted_mean(series):\n",
    "    l=len(series)\n",
    "    return a[:l].dot(series[-np.minimum(50,l):])\n",
    "def create_weighted_mean2(series):\n",
    "    l=len(series)\n",
    "    return a2[:l].dot(series[-np.minimum(15,l):])"
   ]
  },
  {
   "cell_type": "code",
   "execution_count": 216,
   "metadata": {},
   "outputs": [
    {
     "name": "stderr",
     "output_type": "stream",
     "text": [
      "Exception ignored in: <bound method DMatrix.__del__ of <xgboost.core.DMatrix object at 0x000001D16DBC51D0>>\n",
      "Traceback (most recent call last):\n",
      "  File \"C:\\Anaconda3\\lib\\site-packages\\xgboost\\core.py\", line 368, in __del__\n",
      "    if self.handle is not None:\n",
      "AttributeError: 'DMatrix' object has no attribute 'handle'\n"
     ]
    }
   ],
   "source": [
    "def mean_error(s):\n",
    "    e = [[] for i in range(40)]\n",
    "    n = len(s)\n",
    "    for i in range(1, 81):\n",
    "        m = np.mean(s[:n - i])\n",
    "        left = np.maximum(1, i - 39)\n",
    "        right = np.minimum(i, 40)\n",
    "        for j in range(left, right + 1):\n",
    "            e[j - 1].append((m - s[n - i + j - 1])**2)\n",
    "    for i in range(40):\n",
    "        e[i] = np.mean(e[i])\n",
    "    return e \n",
    "def weighted_mean_error(s):\n",
    "    e = [[] for i in range(40)]\n",
    "    n = len(s)\n",
    "    for i in range(1, 81):\n",
    "        m = create_weighted_mean(s[:n - i])\n",
    "        left = np.maximum(1, i - 39)\n",
    "        right = np.minimum(i, 40)\n",
    "        for j in range(left, right + 1):\n",
    "            e[j - 1].append((m - s[n - i + j - 1])**2)\n",
    "    for i in range(40):\n",
    "        e[i] = np.mean(e[i])\n",
    "    return e \n",
    "def mean_last_year_error(s):\n",
    "    e = [[] for i in range(40)]\n",
    "    s = s[-182-60:]\n",
    "    n = len(s)\n",
    "    for i in range(1, 81):\n",
    "        m = np.mean(s[:n - i])\n",
    "        left = np.maximum(1, i - 39)\n",
    "        right = np.minimum(i, 40)\n",
    "        for j in range(left, right + 1):\n",
    "            e[j - 1].append((m - s[n - i + j - 1])**2)\n",
    "    for i in range(40):\n",
    "        e[i] = np.mean(e[i])\n",
    "    return e \n",
    "def mean_last_month_error(s):\n",
    "    e = [[] for i in range(40)]\n",
    "    n = len(s)\n",
    "    for i in range(1, 81):\n",
    "        m = np.mean(s[n - i - 40:n - i])\n",
    "        left = np.maximum(1, i - 39)\n",
    "        right = np.minimum(i, 40)\n",
    "        for j in range(left, right + 1):\n",
    "            e[j - 1].append((m - s[n - i + j - 1])**2)\n",
    "    for i in range(40):\n",
    "        e[i] = np.mean(e[i])\n",
    "    return e \n",
    "def mean_last_week_error(s):\n",
    "    e = [[] for i in range(40)]\n",
    "    n = len(s)\n",
    "    for i in range(1, 81):\n",
    "        m = np.mean(s[n - i - 7:n - i])\n",
    "        left = np.maximum(1, i - 39)\n",
    "        right = np.minimum(i, 40)\n",
    "        for j in range(left, right + 1):\n",
    "            e[j - 1].append((m - s[n - i + j - 1])**2)\n",
    "    for i in range(40):\n",
    "        e[i] = np.mean(e[i])\n",
    "    return e \n",
    "def regression_error(s):\n",
    "    e = [[] for i in range(40)]\n",
    "    n = len(s)\n",
    "    model = LinearRegression()\n",
    "    for i in range(1, 81):\n",
    "        l = len(s[:n - i])\n",
    "        model.fit(np.arange(0, l).reshape(l, 1), s[:n - i])\n",
    "        m = model.predict(np.arange(l, l + 40).reshape(40, 1))\n",
    "        left = np.maximum(1, i - 39)\n",
    "        right = np.minimum(i, 40)\n",
    "        for j in range(left, right + 1):\n",
    "            e[j - 1].append((m[j - 1] - s[n - i + j - 1])**2)\n",
    "    for i in range(40):\n",
    "        e[i] = np.mean(e[i])\n",
    "    return e \n",
    "def regression_year_error(s):\n",
    "    e = [[] for i in range(40)]\n",
    "    n = len(s)\n",
    "    model = LinearRegression()\n",
    "    for i in range(1, 81):\n",
    "        l = len(s[max(0, n - i - 182):n - i])\n",
    "        model.fit(np.arange(0, l).reshape(l, 1), s[max(0, n - i - 182):n - i])\n",
    "        m = model.predict(np.arange(l, l + 40).reshape(40, 1))\n",
    "        left = np.maximum(1, i - 39)\n",
    "        right = np.minimum(i, 40)\n",
    "        for j in range(left, right + 1):\n",
    "            e[j - 1].append((m[j - 1] - s[n - i + j - 1])**2)\n",
    "    for i in range(40):\n",
    "        e[i] = np.mean(e[i])\n",
    "    return e \n",
    "def regression_month_error(s):\n",
    "    e = [[] for i in range(40)]\n",
    "    n = len(s)\n",
    "    model = LinearRegression()\n",
    "    for i in range(1, 81):\n",
    "        l = len(s[n - i - 40:n - i])\n",
    "        model.fit(np.arange(0, l).reshape(l, 1), s[n - i - 40:n - i])\n",
    "        m = model.predict(np.arange(l, l + 40).reshape(40, 1))\n",
    "        left = np.maximum(1, i - 39)\n",
    "        right = np.minimum(i, 40)\n",
    "        for j in range(left, right + 1):\n",
    "            e[j - 1].append((m[j - 1] - s[n - i + j - 1])**2)\n",
    "    for i in range(40):\n",
    "        e[i] = np.mean(e[i])\n",
    "    return e \n",
    "def regression_very_good_error(s):\n",
    "    try:\n",
    "        e = [[] for i in range(40)]\n",
    "        n = len(s)\n",
    "        models = [LinearRegression() for i in range(7)]\n",
    "        for i in range(1, 81):\n",
    "            l = len(s[:n - i])\n",
    "            for k in range(7):\n",
    "                y = s[:n - i][k::7]\n",
    "                X = np.arange(0, l)[k::7]\n",
    "                X = X.reshape(len(X), 1)\n",
    "                models[k].fit(X, y)\n",
    "            left = np.maximum(1, i - 39)\n",
    "            right = np.minimum(i, 40)\n",
    "            for j in range(left, right + 1):\n",
    "                time = n - i + j - 1\n",
    "                e[j - 1].append((models[time % 7].predict(time)[0] - s[time])**2)\n",
    "        for i in range(40):\n",
    "            e[i] = np.mean(e[i])\n",
    "    except:\n",
    "        for i in range(40):\n",
    "            e[i] = 0\n",
    "    return e \n",
    "def week_visitors_mean_error(s):\n",
    "    e = [[] for i in range(40)]\n",
    "    n = len(s)\n",
    "    for i in range(1, 81):\n",
    "        l = len(s[:n - i])\n",
    "        m = [np.mean(s[:n - i][k::7]) for k in range(7)]\n",
    "        left = np.maximum(1, i - 39)\n",
    "        right = np.minimum(i, 40)\n",
    "        for j in range(left, right + 1):\n",
    "            time = n - i + j - 1\n",
    "            e[j - 1].append((m[time % 7] - s[time])**2)\n",
    "    for i in range(40):\n",
    "        e[i] = np.mean(e[i])\n",
    "    return e \n",
    "def week_visitors_mean_year_error(s):\n",
    "    e = [[] for i in range(40)]\n",
    "    s = s[-182-60:]\n",
    "    n = len(s)\n",
    "    for i in range(1, 81):\n",
    "        l = len(s[:n - i])\n",
    "        m = [np.mean(s[:n - i][k::7]) for k in range(7)]\n",
    "        left = np.maximum(1, i - 39)\n",
    "        right = np.minimum(i, 40)\n",
    "        for j in range(left, right + 1):\n",
    "            time = n - i + j - 1\n",
    "            e[j - 1].append((m[time % 7] - s[time])**2)\n",
    "    for i in range(40):\n",
    "        e[i] = np.mean(e[i])\n",
    "    return e"
   ]
  },
  {
   "cell_type": "code",
   "execution_count": 217,
   "metadata": {
    "collapsed": true
   },
   "outputs": [],
   "source": [
    "def regression(x):\n",
    "    clf = LinearRegression()\n",
    "    clf.fit(x.day.values.reshape(len(x), 1), x.visitors)\n",
    "    return clf.predict((np.arange(1, 41) + x.day.max()).reshape(40, 1))"
   ]
  },
  {
   "cell_type": "code",
   "execution_count": 218,
   "metadata": {
    "collapsed": true
   },
   "outputs": [],
   "source": [
    "def create_month_data(max_day, data, mode):\n",
    "    index = (date_info.day > max_day) & (date_info.day <= max_day+40)\n",
    "    X=pd.DataFrame.from_records(itertools.product(list(data.air_store_id.unique()),\n",
    "                                                  list(date_info.loc[index,'visit'].values)))\n",
    "    X.columns=['air_store_id','visit']\n",
    "    if mode=='test':\n",
    "        X=X.merge(date_info[['visit','day','week_day','weekend','fl_holiday1',\n",
    "                            'fl_holiday2']], on=['visit'])\n",
    "        X.visitors = np.nan\n",
    "    else:\n",
    "        X=X.merge(air_visit_data, on=['air_store_id','visit'],how='left')\n",
    "    data = data[data.day <= max_day]\n",
    "    story = data\n",
    "    tmp = story.groupby(['air_store_id', 'week_day']).visitors.mean().reset_index()\n",
    "    tmp.columns = list(tmp.columns[:-1]) + ['week_visitors_mean']\n",
    "    X = pd.merge(X, tmp, how='left')\n",
    "\n",
    "    \n",
    "    story = data[data.day > max_day - 182]\n",
    "    tmp = story.groupby(['air_store_id', 'week_day']).visitors.mean().reset_index()\n",
    "    tmp.columns = list(tmp.columns[:-1]) + ['week_visitors_mean_year']\n",
    "    X = pd.merge(X, tmp, how='left')\n",
    "    \n",
    "    std = data.groupby(['air_store_id', 'week_day'])['visitors'].mean().reset_index().groupby(['air_store_id'])['visitors'].std()\n",
    "    X['t'] = X.day - max_day\n",
    "    \n",
    "    X = X.sort_values(['air_store_id', 'day']).set_index('air_store_id')\n",
    "\n",
    "    story = data\n",
    "    X['mean_all'] = story.visitors.groupby(by=story.air_store_id).mean()\n",
    "    X['weighted_mean'] = story.visitors.groupby(by=story.air_store_id).apply(create_weighted_mean)\n",
    "    \n",
    "    story = data[data.day > max_day - 182]\n",
    "    X['mean_last_year'] = story.visitors.groupby(by=story.air_store_id).mean()\n",
    "    story = data[data.day > max_day - 30]\n",
    "    X['mean_last_month'] = story.visitors.groupby(by=story.air_store_id).mean()\n",
    "    story = data[data.day > max_day - 7]\n",
    "    X['mean_last_week'] = story.visitors.groupby(by=story.air_store_id).mean()\n",
    "    X['last_day'] = data[data.day == max_day].set_index('air_store_id').visitors\n",
    "    story = data\n",
    "    X['regression'] = np.concatenate(story.groupby(story.air_store_id).apply(regression).values)\n",
    "    story = data[data.day > max_day - 182]\n",
    "    X['regression_year'] = np.concatenate(story.groupby(story.air_store_id).apply(regression).values)\n",
    "    story = data[data.day > max_day - 30]\n",
    "    X['regression_month'] = np.concatenate(story.groupby(story.air_store_id).apply(regression).values)\n",
    "    X['diff_mean_yaer_mean_weekday_year']  = X['mean_all'] - X['week_visitors_mean']\n",
    "    good_regress= LinearReg()\n",
    "    good_regress.fit(data)\n",
    "    X['regression_very_good'] = good_regress.predict(X.reset_index())\n",
    "    X['good'] = 0.3 * X.week_visitors_mean_year + 0.45 * X.mean_last_month + 0.25 * X.regression_very_good\n",
    "    M = np.array(list(data.groupby('air_store_id').visitors.apply(list).values))\n",
    "    \n",
    "    w1 = np.hstack([week_visitors_mean_error(M[i]) for i in range(len(M))])\n",
    "    w2 = np.hstack([regression_very_good_error(M[i]) for i in range(len(M))])\n",
    "    w3 = np.hstack([weighted_mean_error(M[i]) for i in range(len(M))])\n",
    "    w4 = np.hstack([mean_last_year_error(M[i]) for i in range(len(M))])\n",
    "    w1 = (1 / w1)**4\n",
    "    w2 = (1 / w2)**4\n",
    "    w3 = (1 / w3)**4\n",
    "    w4 = (1 / w4)**4\n",
    "    tmp = w1 * X.week_visitors_mean +  w2 * X.regression_very_good + w3 * X.weighted_mean + w4 * X.mean_last_year\n",
    "    X['very_very_good'] = tmp / (w1 + w2 + w3 + w4)\n",
    "    \n",
    "    X['diff_mean_all_mean_last_year'] = X['mean_all'] - X['mean_last_year']\n",
    "    X['diff_last_day_regression_very_good'] = X['last_day'] - X['regression_very_good']\n",
    "    \n",
    "    return X"
   ]
  },
  {
   "cell_type": "code",
   "execution_count": 275,
   "metadata": {},
   "outputs": [
    {
     "name": "stdout",
     "output_type": "stream",
     "text": [
      "0\n",
      "100\n",
      "200\n",
      "300\n",
      "air_7bc6ca04d7b0f3b8\n",
      "400\n",
      "500\n",
      "air_b259b4e4a51a690d\n",
      "600\n",
      "700\n",
      "800\n",
      "air_fb44f566d4f64a4e\n"
     ]
    }
   ],
   "source": [
    "i=0\n",
    "Xtest=pd.DataFrame()\n",
    "for item in lst_stores:\n",
    "    try:\n",
    "        _df=air_visit_data.loc[air_visit_data['air_store_id']==item].copy()\n",
    "        Xtest=Xtest.append(create_month_data(478,_df,'test'))\n",
    "        if i%100==0:\n",
    "            print(i)\n",
    "        i=i+1\n",
    "    except:\n",
    "        print(item)\n",
    "Xtest=Xtest[Xtest['day']<518]\n",
    "Xtest.to_csv(path+'Xtest.csv')"
   ]
  },
  {
   "cell_type": "code",
   "execution_count": 276,
   "metadata": {},
   "outputs": [
    {
     "name": "stdout",
     "output_type": "stream",
     "text": [
      "0\n",
      "air_1509881b22965b34\n",
      "air_1c0b150f9e696a5f\n",
      "air_25c583983246b7b0\n",
      "100\n",
      "200\n",
      "air_51281cd059d7b89b\n",
      "air_5e939e005bd34633\n",
      "300\n",
      "air_6b65745d432fd77f\n",
      "air_789103bf53b8096b\n",
      "air_7bc6ca04d7b0f3b8\n",
      "air_8110d68cc869b85e\n",
      "400\n",
      "air_8e8f42f047537154\n",
      "air_900d755ebd2f7bbd\n",
      "air_9c6787aa03a45586\n",
      "500\n",
      "air_a17f0778617c76e2\n",
      "air_a9a380530c1e121f\n",
      "air_b259b4e4a51a690d\n",
      "air_bb4ff06cd661ee9b\n",
      "600\n",
      "air_cf5ab75a0afb8af9\n",
      "700\n",
      "air_e42bdc3377d1eee7\n",
      "air_fb44f566d4f64a4e\n",
      "800\n"
     ]
    }
   ],
   "source": [
    "max_data=478\n",
    "i=0\n",
    "lst_days=np.array(range(max_data, 1, -40))\n",
    "Xtrain=pd.DataFrame()\n",
    "for item in lst_stores:\n",
    "    try:\n",
    "        _df=air_visit_data.loc[air_visit_data['air_store_id']==item].sort_values('day').copy()\n",
    "        start_day=_df.iloc[40]['day']\n",
    "        start_day=min(lst_days[lst_days>start_day])\n",
    "        Xtrain=Xtrain.append(pd.concat([create_month_data(i, _df,'train') for i in range(start_day, 478 - 39, 40)]))\n",
    "        if i%100==0:\n",
    "            print(i)\n",
    "        i=i+1\n",
    "    except:\n",
    "        print(item)\n",
    "#for item in ['air_52a08ef3efdb4bb0']:\n",
    "#        _df=air_visit_data.loc[air_visit_data['air_store_id']==item].sort_values('day').copy()\n",
    "#        start_day=_df.iloc[30]['day']\n",
    "#        start_day=min(lst_days[lst_days>start_day])\n",
    "#        Xtrain=Xtrain.append(pd.concat([create_month_data(i, _df,'train') for i in range(start_day, 478 - 39, 40)]))\n",
    "Xtrain = Xtrain[pd.notnull(Xtrain['visitors'])]\n",
    "Xtrain.to_csv(path+'Xtrain.csv')"
   ]
  },
  {
   "cell_type": "code",
   "execution_count": 279,
   "metadata": {
    "collapsed": true
   },
   "outputs": [],
   "source": [
    "short_list=['air_1509881b22965b34','air_1c0b150f9e696a5f','air_25c583983246b7b0','air_51281cd059d7b89b',\n",
    "            'air_5e939e005bd34633','air_6b65745d432fd77f','air_789103bf53b8096b','air_7bc6ca04d7b0f3b8',\n",
    "            'air_8110d68cc869b85e','air_8e8f42f047537154','air_900d755ebd2f7bbd','air_9c6787aa03a45586',\n",
    "            'air_a17f0778617c76e2','air_a9a380530c1e121f','air_b259b4e4a51a690d','air_bb4ff06cd661ee9b',\n",
    "            'air_cf5ab75a0afb8af9','air_e42bdc3377d1eee7','air_fb44f566d4f64a4e']"
   ]
  },
  {
   "cell_type": "code",
   "execution_count": 285,
   "metadata": {
    "collapsed": true
   },
   "outputs": [],
   "source": [
    "Xtrain=pd.read_csv(path+'Xtrain.csv')\n",
    "Xtest=pd.read_csv(path+'Xtest.csv')\n",
    "shortXtrain=pd.read_csv(path+'short_Xtrain.csv')\n",
    "Xtrain=Xtrain[~(Xtrain.air_store_id.isin(short_list))]\n",
    "Xtest=Xtest[~(Xtest.air_store_id.isin(short_list))]"
   ]
  },
  {
   "cell_type": "code",
   "execution_count": 286,
   "metadata": {
    "collapsed": true
   },
   "outputs": [],
   "source": [
    "Xtrain=Xtrain.merge(air_store_info, on='air_store_id')\n",
    "Xtest=Xtest.merge(air_store_info, on='air_store_id')\n",
    "ytrain=Xtrain['visitors']"
   ]
  },
  {
   "cell_type": "code",
   "execution_count": 289,
   "metadata": {
    "collapsed": true
   },
   "outputs": [],
   "source": [
    "cols=['week_visitors_mean',\n",
    " 'week_visitors_mean_year',\n",
    " 't',\n",
    " 'weighted_mean',\n",
    " 'mean_last_year',\n",
    " 'mean_last_month',\n",
    " 'mean_last_week',\n",
    " 'last_day',\n",
    " 'regression',\n",
    " 'regression_year',\n",
    " 'regression_month',\n",
    " 'diff_mean_yaer_mean_weekday_year',\n",
    " 'regression_very_good',\n",
    " 'good',\n",
    " 'very_very_good',\n",
    " 'diff_mean_all_mean_last_year',\n",
    " 'diff_last_day_regression_very_good',\n",
    " 'latitude',\n",
    " 'longitude',\n",
    " 'area',\n",
    " 'genre'\n",
    "     ]"
   ]
  },
  {
   "cell_type": "code",
   "execution_count": 290,
   "metadata": {},
   "outputs": [
    {
     "data": {
      "text/plain": [
       "XGBRegressor(base_score=0.5, booster='gbtree', colsample_bylevel=1,\n",
       "       colsample_bytree=1, gamma=0, learning_rate=0.1, max_delta_step=0,\n",
       "       max_depth=7, min_child_weight=1, missing=None, n_estimators=150,\n",
       "       n_jobs=1, nthread=8, objective='reg:linear', random_state=0,\n",
       "       reg_alpha=0, reg_lambda=1, scale_pos_weight=1, seed=0, silent=True,\n",
       "       subsample=1)"
      ]
     },
     "execution_count": 290,
     "metadata": {},
     "output_type": "execute_result"
    }
   ],
   "source": [
    "model = xgb.XGBRegressor(max_depth=7, n_estimators=150, seed=0, nthread=8, learning_rate=0.1)\n",
    "model.fit(Xtrain[cols], ytrain)\n"
   ]
  },
  {
   "cell_type": "code",
   "execution_count": 256,
   "metadata": {
    "collapsed": true
   },
   "outputs": [],
   "source": [
    "pred = model.predict(Xtest[cols])"
   ]
  },
  {
   "cell_type": "code",
   "execution_count": 257,
   "metadata": {
    "collapsed": true
   },
   "outputs": [],
   "source": [
    "def prepare_submission(Xtest, pred, shortX):\n",
    "    sub=Xtest[['air_store_id','visit']].reset_index().copy()\n",
    "    sub['id']=Xtest.apply(lambda x: x['air_store_id']+'_'+x['visit'],axis=1)\n",
    "    sub['visitors']=np.expm1(pred)\n",
    "    sub=pd.concat([sub[['id','visitors']],shortX[['id','visitors']]],axis=0)\n",
    "    sub.loc[(sub['visitors']<0),'visitors']=1\n",
    "    return sub    "
   ]
  },
  {
   "cell_type": "code",
   "execution_count": 258,
   "metadata": {},
   "outputs": [],
   "source": [
    "submission=prepare_submission(Xtest,pred,shortXtrain)"
   ]
  },
  {
   "cell_type": "code",
   "execution_count": 259,
   "metadata": {},
   "outputs": [],
   "source": [
    "submission.to_csv(path+'submission.csv',index=False)"
   ]
  },
  {
   "cell_type": "code",
   "execution_count": 273,
   "metadata": {},
   "outputs": [
    {
     "data": {
      "text/plain": [
       "id          0\n",
       "visitors    0\n",
       "dtype: int64"
      ]
     },
     "execution_count": 273,
     "metadata": {},
     "output_type": "execute_result"
    }
   ],
   "source": [
    "submission.isnull().sum()"
   ]
  },
  {
   "cell_type": "code",
   "execution_count": 264,
   "metadata": {},
   "outputs": [],
   "source": [
    "t=submission.groupby('id')['visitors'].count().reset_index()"
   ]
  },
  {
   "cell_type": "code",
   "execution_count": 272,
   "metadata": {},
   "outputs": [
    {
     "data": {
      "text/plain": [
       "(32019, 2)"
      ]
     },
     "execution_count": 272,
     "metadata": {},
     "output_type": "execute_result"
    }
   ],
   "source": [
    "t.shape"
   ]
  },
  {
   "cell_type": "code",
   "execution_count": 294,
   "metadata": {
    "collapsed": true
   },
   "outputs": [],
   "source": [
    "max_date=478\n",
    "max_date1=max_date-39\n",
    "max_date2=max_date1-39\n",
    "max_date3=max_date2-39\n",
    "idx_train_1=Xtrain['day']<max_date1\n",
    "idx_val_1=(Xtrain['day']>=max_date1)&(Xtrain['day']<max_date)\n",
    "idx_train_2=Xtrain['day']<max_date2\n",
    "idx_val_2=(Xtrain['day']>=max_date2)&(Xtrain['day']<max_date1)\n",
    "idx_train_3=Xtrain['day']<max_date3\n",
    "idx_val_3=(Xtrain['day']>=max_date3)&(Xtrain['day']<max_date2)\n",
    "train_fold1=Xtrain[idx_train_1]\n",
    "val_fold1=Xtrain[idx_val_1]\n",
    "train_fold2=Xtrain[idx_train_2]\n",
    "val_fold2=Xtrain[idx_val_2]\n",
    "train_fold3=Xtrain[idx_train_2]\n",
    "val_fold3=Xtrain[idx_val_3]"
   ]
  },
  {
   "cell_type": "code",
   "execution_count": 297,
   "metadata": {
    "collapsed": true
   },
   "outputs": [],
   "source": [
    "def my_cv(model,fold_train, fold_val):\n",
    "    y_tr=fold_train['visitors']\n",
    "    X_tr=fold_train[cols]\n",
    "    y_val=fold_val['visitors']\n",
    "    X_val=fold_val[cols]\n",
    "    model.fit(X_tr, y_tr)\n",
    "    y_pred=model.predict(X_val)\n",
    "    return (mean_squared_error(y_pred, y_val))"
   ]
  },
  {
   "cell_type": "code",
   "execution_count": 298,
   "metadata": {},
   "outputs": [
    {
     "data": {
      "text/plain": [
       "0.27362820691759476"
      ]
     },
     "execution_count": 298,
     "metadata": {},
     "output_type": "execute_result"
    }
   ],
   "source": [
    "my_cv(model, train_fold1, val_fold1)"
   ]
  },
  {
   "cell_type": "code",
   "execution_count": 321,
   "metadata": {},
   "outputs": [],
   "source": [
    "short_stores=air_visit_data.loc[air_visit_data.air_store_id.isin(short_list)]\n",
    "short_stores=short_stores.sort_values('day').set_index('day')"
   ]
  },
  {
   "cell_type": "code",
   "execution_count": 322,
   "metadata": {},
   "outputs": [
    {
     "data": {
      "text/html": [
       "<div>\n",
       "<style>\n",
       "    .dataframe thead tr:only-child th {\n",
       "        text-align: right;\n",
       "    }\n",
       "\n",
       "    .dataframe thead th {\n",
       "        text-align: left;\n",
       "    }\n",
       "\n",
       "    .dataframe tbody tr th {\n",
       "        vertical-align: top;\n",
       "    }\n",
       "</style>\n",
       "<table border=\"1\" class=\"dataframe\">\n",
       "  <thead>\n",
       "    <tr style=\"text-align: right;\">\n",
       "      <th></th>\n",
       "      <th>air_store_id</th>\n",
       "      <th>visitors</th>\n",
       "      <th>visit</th>\n",
       "      <th>week_day</th>\n",
       "      <th>weekend</th>\n",
       "      <th>fl_holiday1</th>\n",
       "      <th>fl_holiday2</th>\n",
       "    </tr>\n",
       "    <tr>\n",
       "      <th>day</th>\n",
       "      <th></th>\n",
       "      <th></th>\n",
       "      <th></th>\n",
       "      <th></th>\n",
       "      <th></th>\n",
       "      <th></th>\n",
       "      <th></th>\n",
       "    </tr>\n",
       "  </thead>\n",
       "  <tbody>\n",
       "    <tr>\n",
       "      <th>247</th>\n",
       "      <td>air_a9a380530c1e121f</td>\n",
       "      <td>3.784190</td>\n",
       "      <td>2016-09-03</td>\n",
       "      <td>5</td>\n",
       "      <td>1</td>\n",
       "      <td>0</td>\n",
       "      <td>0</td>\n",
       "    </tr>\n",
       "    <tr>\n",
       "      <th>254</th>\n",
       "      <td>air_a9a380530c1e121f</td>\n",
       "      <td>3.871201</td>\n",
       "      <td>2016-09-10</td>\n",
       "      <td>5</td>\n",
       "      <td>1</td>\n",
       "      <td>0</td>\n",
       "      <td>0</td>\n",
       "    </tr>\n",
       "    <tr>\n",
       "      <th>275</th>\n",
       "      <td>air_a9a380530c1e121f</td>\n",
       "      <td>4.025352</td>\n",
       "      <td>2016-10-01</td>\n",
       "      <td>5</td>\n",
       "      <td>1</td>\n",
       "      <td>0</td>\n",
       "      <td>0</td>\n",
       "    </tr>\n",
       "    <tr>\n",
       "      <th>276</th>\n",
       "      <td>air_a9a380530c1e121f</td>\n",
       "      <td>3.784190</td>\n",
       "      <td>2016-10-02</td>\n",
       "      <td>6</td>\n",
       "      <td>1</td>\n",
       "      <td>0</td>\n",
       "      <td>0</td>\n",
       "    </tr>\n",
       "    <tr>\n",
       "      <th>282</th>\n",
       "      <td>air_a9a380530c1e121f</td>\n",
       "      <td>4.143135</td>\n",
       "      <td>2016-10-08</td>\n",
       "      <td>5</td>\n",
       "      <td>1</td>\n",
       "      <td>0</td>\n",
       "      <td>0</td>\n",
       "    </tr>\n",
       "  </tbody>\n",
       "</table>\n",
       "</div>"
      ],
      "text/plain": [
       "             air_store_id  visitors      visit  week_day  weekend  \\\n",
       "day                                                                 \n",
       "247  air_a9a380530c1e121f  3.784190 2016-09-03         5        1   \n",
       "254  air_a9a380530c1e121f  3.871201 2016-09-10         5        1   \n",
       "275  air_a9a380530c1e121f  4.025352 2016-10-01         5        1   \n",
       "276  air_a9a380530c1e121f  3.784190 2016-10-02         6        1   \n",
       "282  air_a9a380530c1e121f  4.143135 2016-10-08         5        1   \n",
       "\n",
       "     fl_holiday1  fl_holiday2  \n",
       "day                            \n",
       "247            0            0  \n",
       "254            0            0  \n",
       "275            0            0  \n",
       "276            0            0  \n",
       "282            0            0  "
      ]
     },
     "execution_count": 322,
     "metadata": {},
     "output_type": "execute_result"
    }
   ],
   "source": [
    "short_stores.head()"
   ]
  },
  {
   "cell_type": "code",
   "execution_count": 323,
   "metadata": {
    "collapsed": true
   },
   "outputs": [],
   "source": [
    "def code_mean(data, cat_feature, real_feature):\n",
    "    return dict(data.groupby(cat_feature)[real_feature].mean())"
   ]
  },
  {
   "cell_type": "code",
   "execution_count": 399,
   "metadata": {
    "collapsed": true
   },
   "outputs": [],
   "source": [
    "def prepareData(data, lag_start=5, lag_end=20, test_size=0.40):\n",
    "    \n",
    "    data = pd.DataFrame(data.copy())\n",
    "    print(data.shape)\n",
    "    \n",
    "    # считаем индекс в датафрейме, после которого начинается тестовыый отрезок\n",
    "    test_index = int(len(data)*(1-test_size))\n",
    "    \n",
    "    # считаем средние только по тренировочной части, чтобы избежать лика\n",
    "    tmp1=data[:test_index].groupby('week_day')['visitors'].mean().reset_index()\n",
    "    tmp1.columns=list(tmp1.columns[:-1])+['mean_week_day']\n",
    "    tmp2=data[:test_index].groupby('weekend')['visitors'].mean().reset_index()\n",
    "    tmp2.columns=list(tmp2.columns[:-1])+['mean_weekend']\n",
    "    data=data.merge(tmp2, on=['weekend']) \n",
    "\n",
    "\n",
    "    # выкидываем закодированные средними признаки \n",
    "    data.drop([\"weekend\", \"week_day\",'visit','fl_holiday1','fl_holiday2','air_store_id'], axis=1, inplace=True)\n",
    "\n",
    "    data = data.fillna(method='bfill')\n",
    "    data = data.reset_index(drop=True)\n",
    "\n",
    "    # разбиваем весь датасет на тренировочную и тестовую выборку\n",
    "    X_train = data.loc[:test_index].drop(['visitors'], axis=1)\n",
    "    y_train = data.loc[:test_index]['visitors']\n",
    "    X_test = data.loc[test_index:].drop(['visitors'], axis=1)\n",
    "    y_test = data.loc[test_index:]['visitors']\n",
    "    \n",
    "    return X_train, X_test, y_train, y_test"
   ]
  },
  {
   "cell_type": "code",
   "execution_count": 400,
   "metadata": {},
   "outputs": [
    {
     "name": "stdout",
     "output_type": "stream",
     "text": [
      "(35, 7)\n"
     ]
    },
    {
     "data": {
      "image/png": "[encoded data removed]",
      "text/plain": [
       "<matplotlib.figure.Figure at 0x1d101d0a128>"
      ]
     },
     "metadata": {},
     "output_type": "display_data"
    }
   ],
   "source": [
    "from sklearn.linear_model import LinearRegression\n",
    "\n",
    "X_train, X_test, y_train, y_test = prepareData(short_stores.loc[short_stores['air_store_id']=='air_a9a380530c1e121f'], \n",
    "                                               test_size=0.4, lag_start=1, lag_end=20)\n",
    "lr = LinearRegression()\n",
    "lr.fit(X_train, y_train)\n",
    "prediction = lr.predict(X_test)\n",
    "plt.figure(figsize=(15, 7))\n",
    "plt.plot(prediction, \"r\", label=\"prediction\")\n",
    "plt.plot(y_test.values, label=\"actual\")\n",
    "plt.legend(loc=\"best\")\n",
    "plt.title(\"Linear regression\\n Mean absolute error {} users\".format(round(mean_absolute_error(prediction, y_test))))\n",
    "plt.grid(True);"
   ]
  },
  {
   "cell_type": "code",
   "execution_count": null,
   "metadata": {
    "collapsed": true
   },
   "outputs": [],
   "source": []
  }
 ],
 "metadata": {
  "kernelspec": {
   "display_name": "Python 3",
   "language": "python",
   "name": "python3"
  },
  "language_info": {
   "codemirror_mode": {
    "name": "ipython",
    "version": 3
   },
   "file_extension": ".py",
   "mimetype": "text/x-python",
   "name": "python",
   "nbconvert_exporter": "python",
   "pygments_lexer": "ipython3",
   "version": "3.6.3"
  }
 },
 "nbformat": 4,
 "nbformat_minor": 2
}
